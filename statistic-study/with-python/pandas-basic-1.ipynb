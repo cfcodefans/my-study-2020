{
 "nbformat": 4,
 "nbformat_minor": 2,
 "metadata": {
  "language_info": {
   "name": "python",
   "codemirror_mode": {
    "name": "ipython",
    "version": 3
   },
   "version": "3.7.4-final"
  },
  "orig_nbformat": 2,
  "file_extension": ".py",
  "mimetype": "text/x-python",
  "name": "python",
  "npconvert_exporter": "python",
  "pygments_lexer": "ipython3",
  "version": 3,
  "kernelspec": {
   "name": "python3",
   "display_name": "Python 3"
  }
 },
 "cells": [
  {
   "cell_type": "code",
   "execution_count": 18,
   "metadata": {},
   "outputs": [],
   "source": [
    "def i(v):\n",
    "    print(type(v))\n",
    "    print(v)"
   ]
  },
  {
   "cell_type": "code",
   "execution_count": 13,
   "metadata": {},
   "outputs": [
    {
     "output_type": "stream",
     "name": "stdout",
     "text": "<class 'numpy.ndarray'>\n100\n100\nFalse\n[0.  0.1 0.2 0.3 0.4 0.5 0.6 0.7 0.8 0.9] [9.  9.1 9.2 9.3 9.4 9.5 9.6 9.7 9.8 9.9]\n[0.         0.09983342 0.19866933 0.29552021 0.38941834 0.47942554\n 0.56464247 0.64421769 0.71735609 0.78332691]\n[1.         0.99500417 0.98006658 0.95533649 0.92106099 0.87758256\n 0.82533561 0.76484219 0.69670671 0.62160997]\n"
    }
   ],
   "source": [
    "import numpy as np\n",
    "import pandas as pd\n",
    "\n",
    "t:np.ndarray = np.arange(0, 10, 0.1)\n",
    "print(t.__class__)\n",
    "print(len(t))\n",
    "print(t.size)\n",
    "print(t.all())\n",
    "print(t[0:10], t[-10:])\n",
    "x:np.ndarray = np.sin(t)\n",
    "y:np.ndarray = np.cos(t)\n",
    "print(x[0:10])\n",
    "print(y[0:10])"
   ]
  },
  {
   "cell_type": "code",
   "execution_count": 21,
   "metadata": {},
   "outputs": [
    {
     "output_type": "stream",
     "name": "stdout",
     "text": "<class 'pandas.core.frame.DataFrame'>\n<class 'pandas.core.series.Series'>\n0     0.0\n1     0.1\n2     0.2\n3     0.3\n4     0.4\n     ... \n95    9.5\n96    9.6\n97    9.7\n98    9.8\n99    9.9\nName: time, Length: 100, dtype: float64\n<class 'pandas.core.frame.DataFrame'>\n    time         x\n0    0.0  0.000000\n1    0.1  0.099833\n2    0.2  0.198669\n3    0.3  0.295520\n4    0.4  0.389418\n..   ...       ...\n95   9.5 -0.075151\n96   9.6 -0.174327\n97   9.7 -0.271761\n98   9.8 -0.366479\n99   9.9 -0.457536\n\n[100 rows x 2 columns]\n"
    }
   ],
   "source": [
    "df:pd.DataFrame = pd.DataFrame({'time':t, 'x':x, 'y':y})\n",
    "print(df.__class__)\n",
    "i(df['time'])\n",
    "i(df[['time', 'x']])"
   ]
  },
  {
   "cell_type": "code",
   "execution_count": null,
   "metadata": {},
   "outputs": [],
   "source": []
  }
 ]
}