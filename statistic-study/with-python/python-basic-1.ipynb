{
 "nbformat": 4,
 "nbformat_minor": 2,
 "metadata": {
  "language_info": {
   "name": "python",
   "codemirror_mode": {
    "name": "ipython",
    "version": 3
   },
   "version": "3.7.4-final"
  },
  "orig_nbformat": 2,
  "file_extension": ".py",
  "mimetype": "text/x-python",
  "name": "python",
  "npconvert_exporter": "python",
  "pygments_lexer": "ipython3",
  "version": 3,
  "kernelspec": {
   "name": "python3",
   "display_name": "Python 3"
  }
 },
 "cells": [
  {
   "cell_type": "code",
   "execution_count": 6,
   "metadata": {},
   "outputs": [
    {
     "data": {
      "application/javascript": "\n            setTimeout(function() {\n                var nbb_cell_id = 6;\n                var nbb_unformatted_code = \"%load_ext nb_black\";\n                var nbb_formatted_code = \"%load_ext nb_black\";\n                var nbb_cells = Jupyter.notebook.get_cells();\n                for (var i = 0; i < nbb_cells.length; ++i) {\n                    if (nbb_cells[i].input_prompt_number == nbb_cell_id) {\n                        if (nbb_cells[i].get_text() == nbb_unformatted_code) {\n                             nbb_cells[i].set_text(nbb_formatted_code);\n                        }\n                        break;\n                    }\n                }\n            }, 500);\n            ",
      "text/plain": "<IPython.core.display.Javascript object>"
     },
     "metadata": {},
     "output_type": "display_data"
    }
   ],
   "source": [
    "%load_ext nb_black"
   ]
  },
  {
   "cell_type": "markdown",
   "execution_count": null,
   "metadata": {},
   "outputs": [],
   "source": [
    "## Let me try some python coding"
   ]
  },
  {
   "cell_type": "code",
   "execution_count": 1,
   "metadata": {},
   "outputs": [
    {
     "name": "stdout",
     "output_type": "stream",
     "text": "hello work\n"
    }
   ],
   "source": [
    "print(\"hello work\")"
   ]
  },
  {
   "cell_type": "markdown",
   "execution_count": null,
   "metadata": {},
   "outputs": [],
   "source": [
    "#### How about numbers"
   ]
  },
  {
   "cell_type": "code",
   "execution_count": 1,
   "metadata": {},
   "outputs": [
    {
     "name": "stdout",
     "output_type": "stream",
     "text": "2 + 5 = 7\n2 - 5 = -3\n2 * 5 = 10\n2 / 5 = 0.4\n2 ** 5 = 32\n2 > 5 = False\n2 < 5 = True\n2 >= 5 = False\n2 <= 5 = True\n2 == 5 = False\n2 != 5 = True\n2 | 5 = 7\n2 & 5 = 0\n2 ^ 5 = 7\n2 >> 5 = 0 5 >> 2 = 1\n2 << 5 = 64\n"
    }
   ],
   "source": [
    "def study_ints():\n",
    "    a: int = 2\n",
    "    b: int = 5\n",
    "    print(f\"{a} + {b} = {a + b}\")\n",
    "    print(f\"{a} - {b} = {a - b}\")\n",
    "    print(f\"{a} * {b} = {a * b}\")\n",
    "    print(f\"{a} / {b} = {a / b}\")\n",
    "    print(f\"{a} ** {b} = {a ** b}\")\n",
    "    print(f\"{a} > {b} = {a > b}\")\n",
    "    print(f\"{a} < {b} = {a < b}\")\n",
    "    print(f\"{a} >= {b} = {a >= b}\")\n",
    "    print(f\"{a} <= {b} = {a <= b}\")\n",
    "    print(f\"{a} == {b} = {a == b}\")\n",
    "    print(f\"{a} != {b} = {a != b}\")\n",
    "    # print(f\"!{a} = {!a}\")\n",
    "    print(f\"{a} | {b} = {a | b}\")\n",
    "    print(f\"{a} & {b} = {a & b}\")\n",
    "    print(f\"{a} ^ {b} = {a ^ b}\")\n",
    "    print(f\"{a} >> {b} = {a >> b}\", f\"{b} >> {a} = {b >> a}\")\n",
    "    print(f\"{a} << {b} = {a << b}\")\n",
    "\n",
    "\n",
    "study_ints()s"
   ]
  },
  {
   "cell_type": "markdown",
   "execution_count": null,
   "metadata": {},
   "outputs": [],
   "source": [
    "### Let us try some strings"
   ]
  },
  {
   "cell_type": "code",
   "execution_count": 16,
   "metadata": {},
   "outputs": [
    {
     "name": "stdout",
     "output_type": "stream",
     "text": "s1.capitalize()\tThe string of python.{} works\t interestingly\ns1.casefold()\tthe string of python.{} works\t interestingly\ns1.center()\t----------------------------the string of python.{} works\t interestingly----------------------------\ns1.count('o')\t3\ns1.endswith('ing')\tFalse\ns1.expandtabs(4)\tthe string of python.{} works    interestingly\ns1.find('python')\t14\ns1.format('format')\tthe string of python.format works\t interestingly\ns1.index('python')\t14\ns1.isalnum() \tFalse\ns1.isalpha() \tFalse\ns1.isascii() \tTrue\ns1.isdecimal() \tFalse\ns1.isdigit() \tFalse\ns1.isidentifier() \tFalse\ns1.islower() \tTrue\ns1.isnumeric() \tFalse\ns1.isprintable() \tFalse\n''.join([c for c in s1 if c > 'h' or c == ' ']) \n\tt strin o pyton{} works intrstinly\n"
    },
    {
     "data": {
      "application/javascript": "\n            setTimeout(function() {\n                var nbb_cell_id = 16;\n                var nbb_unformatted_code = \"def study_str(): \\n    s1:str = \\\"the string of python.{} works\\\\t interestingly\\\" \\n    \\n    print(f\\\"s1.capitalize()\\\\t{s1.capitalize()}\\\")\\n    print(f\\\"s1.casefold()\\\\t{s1.casefold()}\\\")\\n    print(f\\\"s1.center()\\\\t{s1.center(100, '-')}\\\")\\n    print(f\\\"s1.count('o')\\\\t{s1.count('o')}\\\")\\n    print(f\\\"s1.endswith('ing')\\\\t{s1.endswith('ing')}\\\")\\n    print(f\\\"s1.expandtabs(4)\\\\t{s1.expandtabs(4)}\\\")\\n    print(f\\\"s1.find('python')\\\\t{s1.find('python')}\\\")\\n    print(f\\\"s1.format('format')\\\\t{s1.format('format')}\\\")\\n    # print(\\\"s1.format_map('format_map()')\\\\t\\\", s1.format_map('format_map({})'))\\n    #print(f\\\"s1.filter(lambda c:c>'h')\\\\t{s1.f.filter(lambda c:c>'h')}\\\")\\n    # print(f\\\"s1.index('python')\\\\t{s1.index('java')}\\\")\\n    print(f\\\"s1.index('python')\\\\t{s1.index('python')}\\\")\\n    print(f\\\"s1.isalnum() \\\\t{s1.isalnum()}\\\")\\n    print(f\\\"s1.isalpha() \\\\t{s1.isalpha()}\\\")\\n    print(f\\\"s1.isascii() \\\\t{s1.isascii()}\\\")\\n    print(f\\\"s1.isdecimal() \\\\t{s1.isdecimal()}\\\")\\n    print(f\\\"s1.isdigit() \\\\t{s1.isdigit()}\\\")\\n    print(f\\\"s1.isidentifier() \\\\t{s1.isidentifier()}\\\")\\n    print(f\\\"s1.islower() \\\\t{s1.islower()}\\\")\\n    print(f\\\"s1.isnumeric() \\\\t{s1.isnumeric()}\\\")\\n    print(f\\\"s1.isprintable() \\\\t{s1.isprintable()}\\\")\\n    print(f\\\"''.join([c for c in s1 if c > 'h' or c == ' ']) \\\\n\\\\t{''.join([c for c in s1 if c > 'h' or c == ' '])}\\\")\\n\\n\\n\\nstudy_str()\";\n                var nbb_formatted_code = \"def study_str():\\n    s1: str = \\\"the string of python.{} works\\\\t interestingly\\\"\\n\\n    print(f\\\"s1.capitalize()\\\\t{s1.capitalize()}\\\")\\n    print(f\\\"s1.casefold()\\\\t{s1.casefold()}\\\")\\n    print(f\\\"s1.center()\\\\t{s1.center(100, '-')}\\\")\\n    print(f\\\"s1.count('o')\\\\t{s1.count('o')}\\\")\\n    print(f\\\"s1.endswith('ing')\\\\t{s1.endswith('ing')}\\\")\\n    print(f\\\"s1.expandtabs(4)\\\\t{s1.expandtabs(4)}\\\")\\n    print(f\\\"s1.find('python')\\\\t{s1.find('python')}\\\")\\n    print(f\\\"s1.format('format')\\\\t{s1.format('format')}\\\")\\n    # print(\\\"s1.format_map('format_map()')\\\\t\\\", s1.format_map('format_map({})'))\\n    # print(f\\\"s1.filter(lambda c:c>'h')\\\\t{s1.f.filter(lambda c:c>'h')}\\\")\\n    # print(f\\\"s1.index('python')\\\\t{s1.index('java')}\\\")\\n    print(f\\\"s1.index('python')\\\\t{s1.index('python')}\\\")\\n    print(f\\\"s1.isalnum() \\\\t{s1.isalnum()}\\\")\\n    print(f\\\"s1.isalpha() \\\\t{s1.isalpha()}\\\")\\n    print(f\\\"s1.isascii() \\\\t{s1.isascii()}\\\")\\n    print(f\\\"s1.isdecimal() \\\\t{s1.isdecimal()}\\\")\\n    print(f\\\"s1.isdigit() \\\\t{s1.isdigit()}\\\")\\n    print(f\\\"s1.isidentifier() \\\\t{s1.isidentifier()}\\\")\\n    print(f\\\"s1.islower() \\\\t{s1.islower()}\\\")\\n    print(f\\\"s1.isnumeric() \\\\t{s1.isnumeric()}\\\")\\n    print(f\\\"s1.isprintable() \\\\t{s1.isprintable()}\\\")\\n    print(\\n        f\\\"''.join([c for c in s1 if c > 'h' or c == ' ']) \\\\n\\\\t{''.join([c for c in s1 if c > 'h' or c == ' '])}\\\"\\n    )\\n\\n\\nstudy_str()\";\n                var nbb_cells = Jupyter.notebook.get_cells();\n                for (var i = 0; i < nbb_cells.length; ++i) {\n                    if (nbb_cells[i].input_prompt_number == nbb_cell_id) {\n                        if (nbb_cells[i].get_text() == nbb_unformatted_code) {\n                             nbb_cells[i].set_text(nbb_formatted_code);\n                        }\n                        break;\n                    }\n                }\n            }, 500);\n            ",
      "text/plain": "<IPython.core.display.Javascript object>"
     },
     "metadata": {},
     "output_type": "display_data"
    }
   ],
   "source": [
    "def study_str():  \n",
    "    s1:str = \"the string of python.{} works\\t interestingly\" \n",
    "    \n",
    "    print(f\"s1.capitalize()\\t{s1.capitalize()}\")\n",
    "    print(f\"s1.casefold()\\t{s1.casefold()}\")\n",
    "    print(f\"s1.center()\\t{s1.center(100, '-')}\")\n",
    "    print(f\"s1.count('o')\\t{s1.count('o')}\")\n",
    "    print(f\"s1.endswith('ing')\\t{s1.endswith('ing')}\")\n",
    "    print(f\"s1.expandtabs(4)\\t{s1.expandtabs(4)}\")\n",
    "    print(f\"s1.find('python')\\t{s1.find('python')}\")\n",
    "    print(f\"s1.format('format')\\t{s1.format('format')}\")\n",
    "    # print(\"s1.format_map('format_map()')\\t\", s1.format_map('format_map({})'))\n",
    "    #print(f\"s1.filter(lambda c:c>'h')\\t{s1.f.filter(lambda c:c>'h')}\")\n",
    "    # print(f\"s1.index('python')\\t{s1.index('java')}\")\n",
    "    print(f\"s1.index('python')\\t{s1.index('python')}\")\n",
    "    print(f\"s1.isalnum() \\t{s1.isalnum()}\")\n",
    "    print(f\"s1.isalpha() \\t{s1.isalpha()}\")\n",
    "    print(f\"s1.isascii() \\t{s1.isascii()}\")\n",
    "    print(f\"s1.isdecimal() \\t{s1.isdecimal()}\")\n",
    "    print(f\"s1.isdigit() \\t{s1.isdigit()}\")\n",
    "    print(f\"s1.isidentifier() \\t{s1.isidentifier()}\")\n",
    "    print(f\"s1.islower() \\t{s1.islower()}\")\n",
    "    print(f\"s1.isnumeric() \\t{s1.isnumeric()}\")\n",
    "    print(f\"s1.isprintable() \\t{s1.isprintable()}\")\n",
    "    print(f\"''.join([c for c in s1 if c > 'h' or c == ' ']) \\n\\t{''.join([c for c in s1 if c > 'h' or c == ' '])}\")\n",
    "\n",
    "\n",
    "\n",
    "study_str()"
   ]
  },
  {
   "cell_type": "code",
   "execution_count": 5,
   "metadata": {},
   "outputs": [],
   "source": [
    "%magic"
   ]
  },
  {
   "cell_type": "code",
   "execution_count": null,
   "metadata": {},
   "outputs": [],
   "source": []
  }
 ]
}